{
 "cells": [
  {
   "cell_type": "code",
   "execution_count": null,
   "metadata": {},
   "outputs": [],
   "source": [
    "\"\"\"\n",
    "Hello Everyone,\n",
    "This code calculates the Hydropathy of signal peptides based on the Wertz-Scheraga scale of Hydrophobicity \n",
    "of amino acids (Wertz & Scheraga, 1978.\n",
    "Please refer 'Huber, D., Boyd, D., Xia, Y., Olma, M. H., Gerstein, M., & Beckwith, J. (2005). \n",
    "Use of thioredoxin as a reporter to identify a subset of Escherichia coli signal sequences that promote \n",
    "signal recognition particle-dependent translocation. Journal of bacteriology, 187(9), 2983-2991.'\n",
    "\n",
    "Created by: Abdeali Jivaji.\n",
    "\n",
    "For any other scale, just change the indices in dictionary.\n",
    "\"\"\""
   ]
  },
  {
   "cell_type": "code",
   "execution_count": null,
   "metadata": {
    "scrolled": false
   },
   "outputs": [],
   "source": [
    "windowsize = int(input(\"Enter the windows size: \"))\n",
    "sequence = input(\"Enter the protein sequence: \")"
   ]
  },
  {
   "cell_type": "code",
   "execution_count": null,
   "metadata": {},
   "outputs": [],
   "source": [
    "dictionary = {'A': 0.52, 'L': 0.77, 'R': 0.49, 'K': 0.31, \n",
    "              'N': 0.42, 'M': 0.76, 'D': 0.37,  'F': 0.87, \n",
    "              'C': 0.83, 'P': 0.35, 'Q': 0.35,  'S': 0.49, \n",
    "              'E': 0.38, 'T': 0.38, 'G': 0.41, 'W': 0.86, \n",
    "              'H': 0.70, 'Y': 0.64, 'I': 0.79, 'V': 0.72}\n",
    "\n"
   ]
  },
  {
   "cell_type": "code",
   "execution_count": null,
   "metadata": {},
   "outputs": [],
   "source": [
    "#This block assigns hydrophobicity values to each amino acid in the sequence\n",
    "i = 0 \n",
    "theList = []\n",
    "while(i < len(sequence)):\n",
    "    amino_index = 0.0  \n",
    "    for aminoacid, index in dictionary.items():\n",
    "        if aminoacid == sequence[i]:\n",
    "            amino_index = float(index)  \n",
    "    theList.append(amino_index)\n",
    "    i = i + 1\n",
    "theList"
   ]
  },
  {
   "cell_type": "code",
   "execution_count": null,
   "metadata": {},
   "outputs": [],
   "source": [
    "#This blocks forms sliding windows of given size of the hydrophobicity values assigned above for the entire sequence. \n",
    "from itertools import tee\n",
    "from itertools import islice\n",
    "import numpy as np\n",
    "import numpy\n",
    "\n",
    "def window(it, size=\"\"):\n",
    "    yield from zip(*[islice(it, s, None) for s, it in enumerate(tee(it, size))])\n",
    "\n",
    "subList = list(window(theList, windowsize))\n",
    "\n",
    "\n",
    "\n",
    "subList = np.array(subList)\n",
    "sums = []\n",
    "\n",
    "def sumArray(array):\n",
    "    a = sum(array)\n",
    "    sums.append(a)\n",
    "\n",
    "for i in range(len(subList)):\n",
    "        print(subList[i])\n",
    "        sumArray(subList[i])\n",
    "len(sums)"
   ]
  },
  {
   "cell_type": "code",
   "execution_count": null,
   "metadata": {},
   "outputs": [],
   "source": [
    "#Assigns central residue number in provided SP sequence for each window listed above\n",
    "import math\n",
    "import numpy as np\n",
    "\n",
    "first_middle = windowsize/2\n",
    "first_middle = math.ceil(first_middle)\n",
    "last_middle = len(theList)-windowsize+first_middle\n",
    "\n",
    "x_axis = np.arange(first_middle, last_middle+1)\n",
    "x_axis"
   ]
  },
  {
   "cell_type": "code",
   "execution_count": null,
   "metadata": {
    "scrolled": true
   },
   "outputs": [],
   "source": [
    "#Average hydrophobicity value of each window rounded up to 2 significant digits\n",
    "averages = []\n",
    "for y in sums:\n",
    "    averages = [x/windowsize for x in sums]\n",
    "    averages = np.round(averages, 2)\n",
    "    averages = np.array(averages)\n",
    "averages"
   ]
  },
  {
   "cell_type": "code",
   "execution_count": null,
   "metadata": {},
   "outputs": [],
   "source": [
    "import matplotlib.pyplot as plt\n",
    "plt.plot(x_axis, averages) \n",
    "plt.xlabel('Amino acids') \n",
    "plt.ylabel('Average hydropathy of window') \n",
    "plt.title(' WS scale Hydropathy plot') \n",
    "plt.show()\n",
    "\n",
    "print(\"The Score of SP on Wertz-Scheraga scale is: \", max(averages))\n",
    "if max(averages) < 0.69:\n",
    "    print('Probable Sec pathway signal peptide')\n",
    "elif max(averages) >= 0.69: \n",
    "    print('Probable SRP pathway signal peptide')"
   ]
  }
 ],
 "metadata": {
  "kernelspec": {
   "display_name": "Python 3",
   "language": "python",
   "name": "python3"
  },
  "language_info": {
   "codemirror_mode": {
    "name": "ipython",
    "version": 3
   },
   "file_extension": ".py",
   "mimetype": "text/x-python",
   "name": "python",
   "nbconvert_exporter": "python",
   "pygments_lexer": "ipython3",
   "version": "3.8.5"
  }
 },
 "nbformat": 4,
 "nbformat_minor": 4
}
